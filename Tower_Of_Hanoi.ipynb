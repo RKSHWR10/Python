{
  "nbformat": 4,
  "nbformat_minor": 0,
  "metadata": {
    "colab": {
      "provenance": [],
      "authorship_tag": "ABX9TyNglS+v0j3hJ+WRCzRYZAyq",
      "include_colab_link": true
    },
    "kernelspec": {
      "name": "python3",
      "display_name": "Python 3"
    },
    "language_info": {
      "name": "python"
    }
  },
  "cells": [
    {
      "cell_type": "markdown",
      "metadata": {
        "id": "view-in-github",
        "colab_type": "text"
      },
      "source": [
        "<a href=\"https://colab.research.google.com/github/RKSHWR10/Python/blob/main/Tower_Of_Hanoi.ipynb\" target=\"_parent\"><img src=\"https://colab.research.google.com/assets/colab-badge.svg\" alt=\"Open In Colab\"/></a>"
      ]
    },
    {
      "cell_type": "code",
      "source": [
        "def hanoi(n, ini, through, fin):\n",
        "    if n > 0:\n",
        "        hanoi(n-1, ini, fin, through)  # Move n-1 disks from ini to through\n",
        "        print('Move the disk from', ini, 'to', fin)\n",
        "        hanoi(n-1, through, ini, fin)  # Move n-1 disks from through to fin\n",
        "\n",
        "# Example usage\n",
        "disks = int(input(\"Enter number of disks: \"))\n",
        "ini = 'X'\n",
        "fin = 'Z'\n",
        "through = 'Y'\n",
        "hanoi(disks, ini, through, fin)\n"
      ],
      "metadata": {
        "id": "Vh4djUIoJ7Yb",
        "outputId": "68bc7a56-b521-4949-f790-a8a407b43b3d",
        "colab": {
          "base_uri": "https://localhost:8080/"
        }
      },
      "execution_count": 3,
      "outputs": [
        {
          "output_type": "stream",
          "name": "stdout",
          "text": [
            "Enter number of disks: 4\n",
            "Move the disk from X to Y\n",
            "Move the disk from X to Z\n",
            "Move the disk from Y to Z\n",
            "Move the disk from X to Y\n",
            "Move the disk from Z to X\n",
            "Move the disk from Z to Y\n",
            "Move the disk from X to Y\n",
            "Move the disk from X to Z\n",
            "Move the disk from Y to Z\n",
            "Move the disk from Y to X\n",
            "Move the disk from Z to X\n",
            "Move the disk from Y to Z\n",
            "Move the disk from X to Y\n",
            "Move the disk from X to Z\n",
            "Move the disk from Y to Z\n"
          ]
        }
      ]
    }
  ]
}