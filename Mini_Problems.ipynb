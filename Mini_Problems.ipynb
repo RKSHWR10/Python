{
  "nbformat": 4,
  "nbformat_minor": 0,
  "metadata": {
    "colab": {
      "provenance": [],
      "authorship_tag": "ABX9TyNZShbYyVnmPU62iaTWm8Ky",
      "include_colab_link": true
    },
    "kernelspec": {
      "name": "python3",
      "display_name": "Python 3"
    },
    "language_info": {
      "name": "python"
    }
  },
  "cells": [
    {
      "cell_type": "markdown",
      "metadata": {
        "id": "view-in-github",
        "colab_type": "text"
      },
      "source": [
        "<a href=\"https://colab.research.google.com/github/RKSHWR10/Python/blob/main/Mini_Problems.ipynb\" target=\"_parent\"><img src=\"https://colab.research.google.com/assets/colab-badge.svg\" alt=\"Open In Colab\"/></a>"
      ]
    },
    {
      "cell_type": "code",
      "execution_count": null,
      "metadata": {
        "colab": {
          "base_uri": "https://localhost:8080/"
        },
        "id": "MoQIGt0W0IjR",
        "outputId": "5faacc52-c8f6-418a-8342-5b3f35c99620"
      },
      "outputs": [
        {
          "output_type": "stream",
          "name": "stdout",
          "text": [
            "Yes\n"
          ]
        }
      ],
      "source": [
        " def isPalindrome(s):\n",
        "    return s == s[::-1]\n",
        "\n",
        "\n",
        "# Driver code\n",
        "s = \"malayalam\"\n",
        "ans = isPalindrome(s)\n",
        "\n",
        "if ans:\n",
        "    print(\"Yes\")\n",
        "else:\n",
        "    print(\"No\")"
      ]
    },
    {
      "cell_type": "markdown",
      "source": [],
      "metadata": {
        "id": "Ro72TWO624F8"
      }
    },
    {
      "cell_type": "code",
      "source": [
        "def Fibonacci(n):\n",
        "\n",
        "    if n < 0:\n",
        "        print(\"Incorrect input\")\n",
        "\n",
        "    elif n == 0:\n",
        "        return 0\n",
        "\n",
        "    elif n == 1 or n == 2:\n",
        "        return 1\n",
        "\n",
        "    else:\n",
        "        return Fibonacci(n-1) + Fibonacci(n-2)\n",
        "\n",
        "print(Fibonacci(9))\n",
        ""
      ],
      "metadata": {
        "colab": {
          "base_uri": "https://localhost:8080/"
        },
        "id": "53NhGMfH24m4",
        "outputId": "9761e72a-c111-4439-c199-3219a0a4fbff"
      },
      "execution_count": null,
      "outputs": [
        {
          "output_type": "stream",
          "name": "stdout",
          "text": [
            "34\n"
          ]
        }
      ]
    },
    {
      "cell_type": "code",
      "source": [
        "\n",
        "def triangle(n):\n",
        "\n",
        "    k = n - 1\n",
        "\n",
        "    for i in range(0, n):\n",
        "\n",
        "        for j in range(0, k):\n",
        "            print(end=\" \")\n",
        "\n",
        "        k = k - 1\n",
        "\n",
        "        for j in range(0, i+1):\n",
        "\n",
        "            print(\"* \", end=\"\")\n",
        "\n",
        "        print(\"\\r\")\n",
        "n = 5\n",
        "triangle(n)"
      ],
      "metadata": {
        "colab": {
          "base_uri": "https://localhost:8080/"
        },
        "id": "Tdn_a1k86ZtH",
        "outputId": "aaa81410-ce13-4c41-fd4b-b5628061f40b"
      },
      "execution_count": null,
      "outputs": [
        {
          "output_type": "stream",
          "name": "stdout",
          "text": [
            "    * \r\n",
            "   * * \r\n",
            "  * * * \r\n",
            " * * * * \r\n",
            "* * * * * \r\n"
          ]
        }
      ]
    },
    {
      "cell_type": "code",
      "source": [
        "def second_largest(list):\n",
        "    list.sort()\n",
        "    return list[-2]\n",
        "\n",
        "li=[]\n",
        "n=int(input(\"Enter size of list \"))\n",
        "for i in range(0,n):\n",
        "    e=int(input(\"Enter element of list \"))\n",
        "    li.append(e)\n",
        "\n",
        "print(\"second largest in \",li,\"is\")\n",
        "print(second_largest(li))\n"
      ],
      "metadata": {
        "colab": {
          "base_uri": "https://localhost:8080/"
        },
        "id": "l0EJhlxIb6-s",
        "outputId": "f25bad71-5c6c-4d35-c447-9fa39315e529"
      },
      "execution_count": null,
      "outputs": [
        {
          "output_type": "stream",
          "name": "stdout",
          "text": [
            "Enter size of list 10\n",
            "Enter element of list 1024\n",
            "Enter element of list 1096\n",
            "Enter element of list 512\n",
            "Enter element of list 256\n",
            "Enter element of list 128\n",
            "Enter element of list 64\n",
            "Enter element of list 32\n",
            "Enter element of list 16\n",
            "Enter element of list 8\n",
            "Enter element of list 4\n",
            "second largest in  [1024, 1096, 512, 256, 128, 64, 32, 16, 8, 4] is\n",
            "1024\n"
          ]
        }
      ]
    }
  ]
}